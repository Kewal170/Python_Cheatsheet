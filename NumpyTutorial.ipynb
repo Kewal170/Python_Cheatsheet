{
 "cells": [
  {
   "cell_type": "markdown",
   "id": "525c86e9-3d71-4bd1-b929-c44bb56cbf17",
   "metadata": {},
   "source": [
    "# Numpy Tutorial"
   ]
  },
  {
   "cell_type": "code",
   "execution_count": 1,
   "id": "74d9aea4-bc90-41b1-ac72-af3e06177193",
   "metadata": {},
   "outputs": [],
   "source": [
    "import numpy as np"
   ]
  },
  {
   "cell_type": "code",
   "execution_count": 2,
   "id": "53477e7f-6a1b-4a88-8272-673dd32c2c8b",
   "metadata": {},
   "outputs": [],
   "source": [
    "myarr = np.array([[1,2,3,4,5,6,7,8,9]])"
   ]
  },
  {
   "cell_type": "code",
   "execution_count": 3,
   "id": "f87d67eb-db4f-4ea8-8a74-e30cae70bf45",
   "metadata": {},
   "outputs": [
    {
     "name": "stdout",
     "output_type": "stream",
     "text": [
      "[[1 2 3 4 5 6 7 8 9]]\n"
     ]
    }
   ],
   "source": [
    "print(myarr)"
   ]
  },
  {
   "cell_type": "code",
   "execution_count": 4,
   "id": "2592791b-749e-4f19-97e2-0400d9fdefd3",
   "metadata": {},
   "outputs": [
    {
     "data": {
      "text/plain": [
       "4"
      ]
     },
     "execution_count": 4,
     "metadata": {},
     "output_type": "execute_result"
    }
   ],
   "source": [
    "myarr[0,3]"
   ]
  },
  {
   "cell_type": "code",
   "execution_count": 5,
   "id": "e28255f8-0894-4f63-814e-65b9503ed0da",
   "metadata": {},
   "outputs": [
    {
     "data": {
      "text/plain": [
       "(1, 9)"
      ]
     },
     "execution_count": 5,
     "metadata": {},
     "output_type": "execute_result"
    }
   ],
   "source": [
    "myarr.shape"
   ]
  },
  {
   "cell_type": "code",
   "execution_count": 6,
   "id": "f54680b7-edf5-4e79-b522-faf8310c4728",
   "metadata": {},
   "outputs": [
    {
     "data": {
      "text/plain": [
       "dtype('int32')"
      ]
     },
     "execution_count": 6,
     "metadata": {},
     "output_type": "execute_result"
    }
   ],
   "source": [
    "myarr.dtype"
   ]
  },
  {
   "cell_type": "code",
   "execution_count": 7,
   "id": "fccd27de-ac79-4dc6-a31c-91812a6df246",
   "metadata": {},
   "outputs": [],
   "source": [
    "myarr[0,3] = 10"
   ]
  },
  {
   "cell_type": "code",
   "execution_count": 8,
   "id": "d7204db5-6020-46ce-a46c-bf8e4480d89e",
   "metadata": {},
   "outputs": [
    {
     "data": {
      "text/plain": [
       "10"
      ]
     },
     "execution_count": 8,
     "metadata": {},
     "output_type": "execute_result"
    }
   ],
   "source": [
    "myarr[0,3]"
   ]
  },
  {
   "cell_type": "markdown",
   "id": "40437a5f-5ac6-4187-bfaa-37b6c5a73e28",
   "metadata": {},
   "source": [
    "# Array Creation 5 ways"
   ]
  },
  {
   "cell_type": "markdown",
   "id": "47f7a3dc-9952-4ff9-bc87-6eefca8cbd1b",
   "metadata": {},
   "source": [
    "# 1 : Conversion from other python structures"
   ]
  },
  {
   "cell_type": "code",
   "execution_count": 9,
   "id": "135da414-56c2-4ac7-bd97-fcda96bb2bfd",
   "metadata": {},
   "outputs": [],
   "source": [
    "arr1 = np.array([[1,2,3],[4,5,6],[7,8,9]])"
   ]
  },
  {
   "cell_type": "code",
   "execution_count": 10,
   "id": "c0275f5c-7817-4554-99fd-c48343d15917",
   "metadata": {},
   "outputs": [
    {
     "data": {
      "text/plain": [
       "array([[1, 2, 3],\n",
       "       [4, 5, 6],\n",
       "       [7, 8, 9]])"
      ]
     },
     "execution_count": 10,
     "metadata": {},
     "output_type": "execute_result"
    }
   ],
   "source": [
    "arr1"
   ]
  },
  {
   "cell_type": "code",
   "execution_count": 11,
   "id": "52ee635d-fdeb-4c1a-86c3-55470b12c054",
   "metadata": {},
   "outputs": [
    {
     "data": {
      "text/plain": [
       "(3, 3)"
      ]
     },
     "execution_count": 11,
     "metadata": {},
     "output_type": "execute_result"
    }
   ],
   "source": [
    "arr1.shape"
   ]
  },
  {
   "cell_type": "code",
   "execution_count": 12,
   "id": "b56a6bce-9c91-48a5-8c1a-7b8c444bff97",
   "metadata": {},
   "outputs": [
    {
     "data": {
      "text/plain": [
       "9"
      ]
     },
     "execution_count": 12,
     "metadata": {},
     "output_type": "execute_result"
    }
   ],
   "source": [
    "arr1.size"
   ]
  },
  {
   "cell_type": "code",
   "execution_count": 13,
   "id": "1ef3a12c-0d9c-4798-9611-8a208a79ebd7",
   "metadata": {},
   "outputs": [
    {
     "data": {
      "text/plain": [
       "dtype('int32')"
      ]
     },
     "execution_count": 13,
     "metadata": {},
     "output_type": "execute_result"
    }
   ],
   "source": [
    "arr1.dtype"
   ]
  },
  {
   "cell_type": "code",
   "execution_count": 14,
   "id": "540dc926-4523-4475-858b-3ee95d4a71fa",
   "metadata": {},
   "outputs": [
    {
     "data": {
      "text/plain": [
       "6"
      ]
     },
     "execution_count": 14,
     "metadata": {},
     "output_type": "execute_result"
    }
   ],
   "source": [
    "arr1[1,2]"
   ]
  },
  {
   "cell_type": "code",
   "execution_count": 15,
   "id": "a4da0cb2-b980-4471-a2b1-4c8e414ab833",
   "metadata": {},
   "outputs": [],
   "source": [
    "arr1[1,2] = 10"
   ]
  },
  {
   "cell_type": "code",
   "execution_count": 16,
   "id": "70d0acdf-623e-4ccd-8a07-5d4a86c4cfd5",
   "metadata": {},
   "outputs": [
    {
     "data": {
      "text/plain": [
       "10"
      ]
     },
     "execution_count": 16,
     "metadata": {},
     "output_type": "execute_result"
    }
   ],
   "source": [
    "arr1[1,2]"
   ]
  },
  {
   "cell_type": "markdown",
   "id": "8fd523f8-484e-42cf-aed9-8ce847ee0357",
   "metadata": {},
   "source": [
    "# 2 way , zeros ones arrange"
   ]
  },
  {
   "cell_type": "code",
   "execution_count": 17,
   "id": "94816d7a-61e4-473c-be90-e2e4cd9fef0a",
   "metadata": {},
   "outputs": [],
   "source": [
    "zeros = np.zeros((3,4),np.int8)"
   ]
  },
  {
   "cell_type": "code",
   "execution_count": 18,
   "id": "dad4d9e3-22a5-422f-95e5-6e843539335a",
   "metadata": {},
   "outputs": [
    {
     "data": {
      "text/plain": [
       "array([[0, 0, 0, 0],\n",
       "       [0, 0, 0, 0],\n",
       "       [0, 0, 0, 0]], dtype=int8)"
      ]
     },
     "execution_count": 18,
     "metadata": {},
     "output_type": "execute_result"
    }
   ],
   "source": [
    "zeros"
   ]
  },
  {
   "cell_type": "code",
   "execution_count": 19,
   "id": "fb326c9f-36a0-44d8-80e9-4919ef6e507f",
   "metadata": {},
   "outputs": [
    {
     "data": {
      "text/plain": [
       "(3, 4)"
      ]
     },
     "execution_count": 19,
     "metadata": {},
     "output_type": "execute_result"
    }
   ],
   "source": [
    "zeros.shape"
   ]
  },
  {
   "cell_type": "code",
   "execution_count": 20,
   "id": "4cba2b59-d8dc-418f-8097-fcc2bfe29bed",
   "metadata": {},
   "outputs": [
    {
     "data": {
      "text/plain": [
       "dtype('int8')"
      ]
     },
     "execution_count": 20,
     "metadata": {},
     "output_type": "execute_result"
    }
   ],
   "source": [
    "zeros.dtype"
   ]
  },
  {
   "cell_type": "code",
   "execution_count": 21,
   "id": "5f8a92bd-dbe9-4bea-a1c7-67eaab14e1c0",
   "metadata": {},
   "outputs": [
    {
     "data": {
      "text/plain": [
       "0"
      ]
     },
     "execution_count": 21,
     "metadata": {},
     "output_type": "execute_result"
    }
   ],
   "source": [
    "zeros[1,3]"
   ]
  },
  {
   "cell_type": "code",
   "execution_count": 22,
   "id": "dfaf8110-ff30-4f03-880f-af64f6324572",
   "metadata": {},
   "outputs": [],
   "source": [
    "zeros[1,3] = 5"
   ]
  },
  {
   "cell_type": "code",
   "execution_count": 23,
   "id": "7133f9cb-08fa-4f36-981b-47fb5a111741",
   "metadata": {},
   "outputs": [
    {
     "data": {
      "text/plain": [
       "array([[0, 0, 0, 0],\n",
       "       [0, 0, 0, 5],\n",
       "       [0, 0, 0, 0]], dtype=int8)"
      ]
     },
     "execution_count": 23,
     "metadata": {},
     "output_type": "execute_result"
    }
   ],
   "source": [
    "zeros"
   ]
  },
  {
   "cell_type": "markdown",
   "id": "e7672887-e182-4430-8ff2-a25732c771f0",
   "metadata": {},
   "source": [
    "**---------------------- arrange ---------------------------**"
   ]
  },
  {
   "cell_type": "code",
   "execution_count": 24,
   "id": "e543b29d-5848-44c9-bf4a-218960843a54",
   "metadata": {},
   "outputs": [],
   "source": [
    "rnge = np.arange((10))"
   ]
  },
  {
   "cell_type": "code",
   "execution_count": 25,
   "id": "2c0ec631-e48d-43bb-8e33-08e6242eb0bf",
   "metadata": {},
   "outputs": [
    {
     "data": {
      "text/plain": [
       "array([0, 1, 2, 3, 4, 5, 6, 7, 8, 9])"
      ]
     },
     "execution_count": 25,
     "metadata": {},
     "output_type": "execute_result"
    }
   ],
   "source": [
    "rnge"
   ]
  },
  {
   "cell_type": "code",
   "execution_count": 26,
   "id": "c87f5885-0a8c-4615-ac71-44336b6c02bd",
   "metadata": {},
   "outputs": [
    {
     "data": {
      "text/plain": [
       "(10,)"
      ]
     },
     "execution_count": 26,
     "metadata": {},
     "output_type": "execute_result"
    }
   ],
   "source": [
    "rnge.shape"
   ]
  },
  {
   "cell_type": "code",
   "execution_count": 27,
   "id": "d59c5e0d-5776-4aba-8229-f5d35203e240",
   "metadata": {},
   "outputs": [
    {
     "data": {
      "text/plain": [
       "10"
      ]
     },
     "execution_count": 27,
     "metadata": {},
     "output_type": "execute_result"
    }
   ],
   "source": [
    "rnge.size"
   ]
  },
  {
   "cell_type": "code",
   "execution_count": 28,
   "id": "e29ddb30-9274-4e2c-a0c1-66bc490255b0",
   "metadata": {},
   "outputs": [],
   "source": [
    "rnge2 = np.arange(10,12)"
   ]
  },
  {
   "cell_type": "code",
   "execution_count": 29,
   "id": "da05569c-ae55-4535-bf98-9ebf91b23e5b",
   "metadata": {},
   "outputs": [
    {
     "data": {
      "text/plain": [
       "array([10, 11])"
      ]
     },
     "execution_count": 29,
     "metadata": {},
     "output_type": "execute_result"
    }
   ],
   "source": [
    "rnge2"
   ]
  },
  {
   "cell_type": "code",
   "execution_count": 30,
   "id": "de24a062-8782-4052-901b-72bfb2583727",
   "metadata": {},
   "outputs": [],
   "source": [
    "rnge3 = np.arange(1,10,2)"
   ]
  },
  {
   "cell_type": "code",
   "execution_count": 31,
   "id": "0cffccb5-c33a-4267-a212-6b760850cbef",
   "metadata": {},
   "outputs": [
    {
     "data": {
      "text/plain": [
       "array([1, 3, 5, 7, 9])"
      ]
     },
     "execution_count": 31,
     "metadata": {},
     "output_type": "execute_result"
    }
   ],
   "source": [
    "rnge3"
   ]
  },
  {
   "cell_type": "markdown",
   "id": "d97a08c9-37c5-4a04-911c-1bfaeb9a92f4",
   "metadata": {},
   "source": [
    "**---------------------- Linspace ---------------------------**"
   ]
  },
  {
   "cell_type": "code",
   "execution_count": 32,
   "id": "b4e08b76-f30a-4069-aed3-db0a965a60fd",
   "metadata": {},
   "outputs": [],
   "source": [
    "lspace = np.linspace(1,10)"
   ]
  },
  {
   "cell_type": "code",
   "execution_count": 33,
   "id": "3570dc37-705e-4b52-8f34-30f9fa6c4b77",
   "metadata": {},
   "outputs": [
    {
     "data": {
      "text/plain": [
       "array([ 1.        ,  1.18367347,  1.36734694,  1.55102041,  1.73469388,\n",
       "        1.91836735,  2.10204082,  2.28571429,  2.46938776,  2.65306122,\n",
       "        2.83673469,  3.02040816,  3.20408163,  3.3877551 ,  3.57142857,\n",
       "        3.75510204,  3.93877551,  4.12244898,  4.30612245,  4.48979592,\n",
       "        4.67346939,  4.85714286,  5.04081633,  5.2244898 ,  5.40816327,\n",
       "        5.59183673,  5.7755102 ,  5.95918367,  6.14285714,  6.32653061,\n",
       "        6.51020408,  6.69387755,  6.87755102,  7.06122449,  7.24489796,\n",
       "        7.42857143,  7.6122449 ,  7.79591837,  7.97959184,  8.16326531,\n",
       "        8.34693878,  8.53061224,  8.71428571,  8.89795918,  9.08163265,\n",
       "        9.26530612,  9.44897959,  9.63265306,  9.81632653, 10.        ])"
      ]
     },
     "execution_count": 33,
     "metadata": {},
     "output_type": "execute_result"
    }
   ],
   "source": [
    "lspace"
   ]
  },
  {
   "cell_type": "code",
   "execution_count": 34,
   "id": "f99f659a-9e2a-4c4b-b39c-59c70c2850ab",
   "metadata": {},
   "outputs": [
    {
     "data": {
      "text/plain": [
       "(50,)"
      ]
     },
     "execution_count": 34,
     "metadata": {},
     "output_type": "execute_result"
    }
   ],
   "source": [
    "lspace.shape"
   ]
  },
  {
   "cell_type": "code",
   "execution_count": 35,
   "id": "3cedb8d7-bd4e-4495-aec8-dec37a9e0d8f",
   "metadata": {},
   "outputs": [
    {
     "data": {
      "text/plain": [
       "50"
      ]
     },
     "execution_count": 35,
     "metadata": {},
     "output_type": "execute_result"
    }
   ],
   "source": [
    "lspace.size"
   ]
  },
  {
   "cell_type": "code",
   "execution_count": 36,
   "id": "4689fae4-0239-4093-a93c-b657f457be96",
   "metadata": {},
   "outputs": [],
   "source": [
    "lspace1 = np.linspace(0,20,10)"
   ]
  },
  {
   "cell_type": "code",
   "execution_count": 37,
   "id": "d28ec674-6da5-4d97-bfe8-7f892275012f",
   "metadata": {},
   "outputs": [
    {
     "data": {
      "text/plain": [
       "array([ 0.        ,  2.22222222,  4.44444444,  6.66666667,  8.88888889,\n",
       "       11.11111111, 13.33333333, 15.55555556, 17.77777778, 20.        ])"
      ]
     },
     "execution_count": 37,
     "metadata": {},
     "output_type": "execute_result"
    }
   ],
   "source": [
    "lspace1"
   ]
  },
  {
   "cell_type": "code",
   "execution_count": 38,
   "id": "8f134e16-79bd-45e7-8b71-7ac906fd53c7",
   "metadata": {},
   "outputs": [
    {
     "data": {
      "text/plain": [
       "10"
      ]
     },
     "execution_count": 38,
     "metadata": {},
     "output_type": "execute_result"
    }
   ],
   "source": [
    "lspace1.size"
   ]
  },
  {
   "cell_type": "code",
   "execution_count": 39,
   "id": "798c7ca4-85d5-4560-99b6-8054f21e93f9",
   "metadata": {},
   "outputs": [
    {
     "data": {
      "text/plain": [
       "(10,)"
      ]
     },
     "execution_count": 39,
     "metadata": {},
     "output_type": "execute_result"
    }
   ],
   "source": [
    "lspace1.shape"
   ]
  },
  {
   "cell_type": "code",
   "execution_count": 40,
   "id": "a50f10ac-9641-4f65-a3c6-ebe8708933dc",
   "metadata": {},
   "outputs": [
    {
     "data": {
      "text/plain": [
       "4.444444444444445"
      ]
     },
     "execution_count": 40,
     "metadata": {},
     "output_type": "execute_result"
    }
   ],
   "source": [
    "lspace1[2]"
   ]
  },
  {
   "cell_type": "code",
   "execution_count": 41,
   "id": "8029fe76-029b-4704-b813-719f57979e3a",
   "metadata": {},
   "outputs": [],
   "source": [
    "lspace[2] = 40"
   ]
  },
  {
   "cell_type": "code",
   "execution_count": 42,
   "id": "dd014ef0-94d0-4ae8-acec-3bf0dc641d99",
   "metadata": {},
   "outputs": [
    {
     "data": {
      "text/plain": [
       "40.0"
      ]
     },
     "execution_count": 42,
     "metadata": {},
     "output_type": "execute_result"
    }
   ],
   "source": [
    "lspace[2]"
   ]
  },
  {
   "cell_type": "markdown",
   "id": "dcd574ee-9af1-43e3-9f6f-6e07393ffe0b",
   "metadata": {},
   "source": [
    "**---------------------- Identity ---------------------------**"
   ]
  },
  {
   "cell_type": "code",
   "execution_count": 43,
   "id": "8c028499-9d71-4877-a502-82875f6833a7",
   "metadata": {},
   "outputs": [],
   "source": [
    "iden = np.identity(5)"
   ]
  },
  {
   "cell_type": "code",
   "execution_count": 44,
   "id": "7bf3345c-6c88-4cdf-8434-9971008cd5cc",
   "metadata": {},
   "outputs": [
    {
     "data": {
      "text/plain": [
       "array([[1., 0., 0., 0., 0.],\n",
       "       [0., 1., 0., 0., 0.],\n",
       "       [0., 0., 1., 0., 0.],\n",
       "       [0., 0., 0., 1., 0.],\n",
       "       [0., 0., 0., 0., 1.]])"
      ]
     },
     "execution_count": 44,
     "metadata": {},
     "output_type": "execute_result"
    }
   ],
   "source": [
    "iden"
   ]
  },
  {
   "cell_type": "code",
   "execution_count": 45,
   "id": "99804b31-a680-4262-92ba-55af8e54dada",
   "metadata": {},
   "outputs": [
    {
     "data": {
      "text/plain": [
       "dtype('float64')"
      ]
     },
     "execution_count": 45,
     "metadata": {},
     "output_type": "execute_result"
    }
   ],
   "source": [
    "iden.dtype"
   ]
  },
  {
   "cell_type": "markdown",
   "id": "52e8c047-e211-487c-8b84-62e16f692436",
   "metadata": {},
   "source": [
    "# Reshape"
   ]
  },
  {
   "cell_type": "code",
   "execution_count": 46,
   "id": "d224095a-b417-4f7a-8858-59ec9232741b",
   "metadata": {},
   "outputs": [],
   "source": [
    "abc = np.arange((120))"
   ]
  },
  {
   "cell_type": "code",
   "execution_count": 47,
   "id": "b9b9de8b-e456-4e6a-afb0-db90f0d61324",
   "metadata": {},
   "outputs": [
    {
     "data": {
      "text/plain": [
       "array([  0,   1,   2,   3,   4,   5,   6,   7,   8,   9,  10,  11,  12,\n",
       "        13,  14,  15,  16,  17,  18,  19,  20,  21,  22,  23,  24,  25,\n",
       "        26,  27,  28,  29,  30,  31,  32,  33,  34,  35,  36,  37,  38,\n",
       "        39,  40,  41,  42,  43,  44,  45,  46,  47,  48,  49,  50,  51,\n",
       "        52,  53,  54,  55,  56,  57,  58,  59,  60,  61,  62,  63,  64,\n",
       "        65,  66,  67,  68,  69,  70,  71,  72,  73,  74,  75,  76,  77,\n",
       "        78,  79,  80,  81,  82,  83,  84,  85,  86,  87,  88,  89,  90,\n",
       "        91,  92,  93,  94,  95,  96,  97,  98,  99, 100, 101, 102, 103,\n",
       "       104, 105, 106, 107, 108, 109, 110, 111, 112, 113, 114, 115, 116,\n",
       "       117, 118, 119])"
      ]
     },
     "execution_count": 47,
     "metadata": {},
     "output_type": "execute_result"
    }
   ],
   "source": [
    "abc"
   ]
  },
  {
   "cell_type": "code",
   "execution_count": 48,
   "id": "3cd57bd2-dd3c-4ba6-ac85-33d5f30e066d",
   "metadata": {},
   "outputs": [],
   "source": [
    "abc = abc.reshape(12,10)"
   ]
  },
  {
   "cell_type": "code",
   "execution_count": 49,
   "id": "2e06690b-eff0-4da4-89dd-0e275fbbdd63",
   "metadata": {},
   "outputs": [
    {
     "data": {
      "text/plain": [
       "array([[  0,   1,   2,   3,   4,   5,   6,   7,   8,   9],\n",
       "       [ 10,  11,  12,  13,  14,  15,  16,  17,  18,  19],\n",
       "       [ 20,  21,  22,  23,  24,  25,  26,  27,  28,  29],\n",
       "       [ 30,  31,  32,  33,  34,  35,  36,  37,  38,  39],\n",
       "       [ 40,  41,  42,  43,  44,  45,  46,  47,  48,  49],\n",
       "       [ 50,  51,  52,  53,  54,  55,  56,  57,  58,  59],\n",
       "       [ 60,  61,  62,  63,  64,  65,  66,  67,  68,  69],\n",
       "       [ 70,  71,  72,  73,  74,  75,  76,  77,  78,  79],\n",
       "       [ 80,  81,  82,  83,  84,  85,  86,  87,  88,  89],\n",
       "       [ 90,  91,  92,  93,  94,  95,  96,  97,  98,  99],\n",
       "       [100, 101, 102, 103, 104, 105, 106, 107, 108, 109],\n",
       "       [110, 111, 112, 113, 114, 115, 116, 117, 118, 119]])"
      ]
     },
     "execution_count": 49,
     "metadata": {},
     "output_type": "execute_result"
    }
   ],
   "source": [
    "abc"
   ]
  },
  {
   "cell_type": "code",
   "execution_count": 50,
   "id": "57651cfb-2fbc-4b10-874f-eeec7683f586",
   "metadata": {},
   "outputs": [
    {
     "data": {
      "text/plain": [
       "array([  0,   1,   2,   3,   4,   5,   6,   7,   8,   9,  10,  11,  12,\n",
       "        13,  14,  15,  16,  17,  18,  19,  20,  21,  22,  23,  24,  25,\n",
       "        26,  27,  28,  29,  30,  31,  32,  33,  34,  35,  36,  37,  38,\n",
       "        39,  40,  41,  42,  43,  44,  45,  46,  47,  48,  49,  50,  51,\n",
       "        52,  53,  54,  55,  56,  57,  58,  59,  60,  61,  62,  63,  64,\n",
       "        65,  66,  67,  68,  69,  70,  71,  72,  73,  74,  75,  76,  77,\n",
       "        78,  79,  80,  81,  82,  83,  84,  85,  86,  87,  88,  89,  90,\n",
       "        91,  92,  93,  94,  95,  96,  97,  98,  99, 100, 101, 102, 103,\n",
       "       104, 105, 106, 107, 108, 109, 110, 111, 112, 113, 114, 115, 116,\n",
       "       117, 118, 119])"
      ]
     },
     "execution_count": 50,
     "metadata": {},
     "output_type": "execute_result"
    }
   ],
   "source": [
    "abc.ravel()"
   ]
  },
  {
   "cell_type": "markdown",
   "id": "55a4bb13-f81e-4f64-9f67-6ff38f136ff6",
   "metadata": {},
   "source": [
    "# Numpy Axix"
   ]
  },
  {
   "cell_type": "code",
   "execution_count": 51,
   "id": "c1922f05-180c-4871-bffa-5fb1ffe63dc9",
   "metadata": {},
   "outputs": [],
   "source": [
    "x = [[1,2,3],[4,5,6],[7,1,0]]"
   ]
  },
  {
   "cell_type": "code",
   "execution_count": 52,
   "id": "a7e2a98c-f219-4fb3-894b-b714e94336aa",
   "metadata": {},
   "outputs": [],
   "source": [
    "ar = np.array(x)"
   ]
  },
  {
   "cell_type": "code",
   "execution_count": 53,
   "id": "7a16c3cf-8832-413b-8405-a0c351b10c7b",
   "metadata": {},
   "outputs": [
    {
     "data": {
      "text/plain": [
       "array([[1, 2, 3],\n",
       "       [4, 5, 6],\n",
       "       [7, 1, 0]])"
      ]
     },
     "execution_count": 53,
     "metadata": {},
     "output_type": "execute_result"
    }
   ],
   "source": [
    "ar"
   ]
  },
  {
   "cell_type": "code",
   "execution_count": 54,
   "id": "de0a6630-1bac-432d-854d-c057b81f88e2",
   "metadata": {},
   "outputs": [
    {
     "data": {
      "text/plain": [
       "array([12,  8,  9])"
      ]
     },
     "execution_count": 54,
     "metadata": {},
     "output_type": "execute_result"
    }
   ],
   "source": [
    "ar.sum(axis=0) # add downwards (0 = vertically, 1 = horizontally)"
   ]
  },
  {
   "cell_type": "code",
   "execution_count": 55,
   "id": "7fdce15d-bd35-46d7-b6b7-e028cf43e415",
   "metadata": {},
   "outputs": [
    {
     "data": {
      "text/plain": [
       "array([ 6, 15,  8])"
      ]
     },
     "execution_count": 55,
     "metadata": {},
     "output_type": "execute_result"
    }
   ],
   "source": [
    "ar.sum(axis=1)"
   ]
  },
  {
   "cell_type": "markdown",
   "id": "7ccd1b95-1ba2-47bc-a78c-016acf1a9437",
   "metadata": {},
   "source": [
    "**-------------------------- Transpose ---------------------------**"
   ]
  },
  {
   "cell_type": "code",
   "execution_count": 56,
   "id": "23a08306-7b65-4ba3-9400-1ce4882fea9a",
   "metadata": {},
   "outputs": [
    {
     "data": {
      "text/plain": [
       "array([[1, 2, 3],\n",
       "       [4, 5, 6],\n",
       "       [7, 1, 0]])"
      ]
     },
     "execution_count": 56,
     "metadata": {},
     "output_type": "execute_result"
    }
   ],
   "source": [
    "ar"
   ]
  },
  {
   "cell_type": "code",
   "execution_count": 57,
   "id": "5d175c65-88ae-4b20-b9bb-ffeb4856ef98",
   "metadata": {},
   "outputs": [
    {
     "data": {
      "text/plain": [
       "array([[1, 4, 7],\n",
       "       [2, 5, 1],\n",
       "       [3, 6, 0]])"
      ]
     },
     "execution_count": 57,
     "metadata": {},
     "output_type": "execute_result"
    }
   ],
   "source": [
    "ar.T # row converted into column && column converted into row"
   ]
  },
  {
   "cell_type": "markdown",
   "id": "ee637e79-17ca-41a8-aa6f-a481efed0a39",
   "metadata": {},
   "source": [
    "** --------------------- Array Flat ---------------------------- **"
   ]
  },
  {
   "cell_type": "code",
   "execution_count": 58,
   "id": "d2bec650-a1ad-47e8-a9e0-82acdd6fabc9",
   "metadata": {},
   "outputs": [
    {
     "name": "stdout",
     "output_type": "stream",
     "text": [
      "[1 2 3]\n",
      "[4 5 6]\n",
      "[7 1 0]\n"
     ]
    }
   ],
   "source": [
    "for i in ar:\n",
    "    print(i)"
   ]
  },
  {
   "cell_type": "code",
   "execution_count": 59,
   "id": "0c91c8e9-cedb-4cd6-b802-2ec84c687951",
   "metadata": {},
   "outputs": [
    {
     "data": {
      "text/plain": [
       "<numpy.flatiter at 0x19fed4510d0>"
      ]
     },
     "execution_count": 59,
     "metadata": {},
     "output_type": "execute_result"
    }
   ],
   "source": [
    "ar.flat"
   ]
  },
  {
   "cell_type": "code",
   "execution_count": 60,
   "id": "60cdf64f-a7ad-41f3-b63f-d91988598db2",
   "metadata": {},
   "outputs": [
    {
     "name": "stdout",
     "output_type": "stream",
     "text": [
      "1\n",
      "2\n",
      "3\n",
      "4\n",
      "5\n",
      "6\n",
      "7\n",
      "1\n",
      "0\n"
     ]
    }
   ],
   "source": [
    "for i in ar.flat:\n",
    "    print(i)"
   ]
  },
  {
   "cell_type": "code",
   "execution_count": 61,
   "id": "021e60c6-fe0a-47d1-bcb8-212bee350641",
   "metadata": {},
   "outputs": [
    {
     "data": {
      "text/plain": [
       "2"
      ]
     },
     "execution_count": 61,
     "metadata": {},
     "output_type": "execute_result"
    }
   ],
   "source": [
    "ar.ndim # show dimension"
   ]
  },
  {
   "cell_type": "code",
   "execution_count": 62,
   "id": "b6aae4a8-4ed5-4313-816d-28ce057d9845",
   "metadata": {},
   "outputs": [
    {
     "data": {
      "text/plain": [
       "9"
      ]
     },
     "execution_count": 62,
     "metadata": {},
     "output_type": "execute_result"
    }
   ],
   "source": [
    "ar.size"
   ]
  },
  {
   "cell_type": "code",
   "execution_count": 63,
   "id": "d5ee7f37-935d-4895-a409-8ac3353ff9d9",
   "metadata": {},
   "outputs": [
    {
     "data": {
      "text/plain": [
       "(3, 3)"
      ]
     },
     "execution_count": 63,
     "metadata": {},
     "output_type": "execute_result"
    }
   ],
   "source": [
    "ar.shape"
   ]
  },
  {
   "cell_type": "code",
   "execution_count": 64,
   "id": "9cfa514a-c8c0-47f3-9891-26fc223b8ba8",
   "metadata": {},
   "outputs": [
    {
     "data": {
      "text/plain": [
       "36"
      ]
     },
     "execution_count": 64,
     "metadata": {},
     "output_type": "execute_result"
    }
   ],
   "source": [
    "ar.nbytes"
   ]
  },
  {
   "cell_type": "code",
   "execution_count": 65,
   "id": "de675457-d5f2-47c4-890c-0b3985db5e7f",
   "metadata": {},
   "outputs": [],
   "source": [
    "one = np.array([12,34,76,13,45])"
   ]
  },
  {
   "cell_type": "code",
   "execution_count": 66,
   "id": "0cd53a77-f63a-48a6-bc9d-ea4b868320e2",
   "metadata": {},
   "outputs": [
    {
     "data": {
      "text/plain": [
       "2"
      ]
     },
     "execution_count": 66,
     "metadata": {},
     "output_type": "execute_result"
    }
   ],
   "source": [
    "one.argmax() # show the maximum value index"
   ]
  },
  {
   "cell_type": "code",
   "execution_count": 67,
   "id": "654d9379-2b56-4d3f-bc78-31d42d2c8c2d",
   "metadata": {},
   "outputs": [
    {
     "data": {
      "text/plain": [
       "0"
      ]
     },
     "execution_count": 67,
     "metadata": {},
     "output_type": "execute_result"
    }
   ],
   "source": [
    "one.argmin() # shows the minimum value index"
   ]
  },
  {
   "cell_type": "code",
   "execution_count": 68,
   "id": "4f39d58b-5a06-4a1f-a710-17dd8e622555",
   "metadata": {},
   "outputs": [
    {
     "data": {
      "text/plain": [
       "array([0, 3, 1, 4, 2], dtype=int64)"
      ]
     },
     "execution_count": 68,
     "metadata": {},
     "output_type": "execute_result"
    }
   ],
   "source": [
    "one.argsort() # shows indexes if shifted in this, then it is sorted"
   ]
  },
  {
   "cell_type": "code",
   "execution_count": 69,
   "id": "4277450d-597d-4a19-b55e-aac280b7c5f2",
   "metadata": {},
   "outputs": [
    {
     "data": {
      "text/plain": [
       "array([[1, 2, 3],\n",
       "       [4, 5, 6],\n",
       "       [7, 1, 0]])"
      ]
     },
     "execution_count": 69,
     "metadata": {},
     "output_type": "execute_result"
    }
   ],
   "source": [
    "ar"
   ]
  },
  {
   "cell_type": "code",
   "execution_count": 70,
   "id": "815e9371-b315-449f-9672-002051e61d81",
   "metadata": {},
   "outputs": [],
   "source": [
    "ar = ar.ravel()"
   ]
  },
  {
   "cell_type": "code",
   "execution_count": 71,
   "id": "7b2c10b9-74dd-41ad-b0b2-71ef9c7f1b8a",
   "metadata": {},
   "outputs": [
    {
     "data": {
      "text/plain": [
       "array([1, 2, 3, 4, 5, 6, 7, 1, 0])"
      ]
     },
     "execution_count": 71,
     "metadata": {},
     "output_type": "execute_result"
    }
   ],
   "source": [
    "ar"
   ]
  },
  {
   "cell_type": "code",
   "execution_count": 72,
   "id": "8c269e75-8b4e-4569-a7b7-b6fda88eca81",
   "metadata": {},
   "outputs": [
    {
     "data": {
      "text/plain": [
       "array([[1, 2, 3],\n",
       "       [4, 5, 6],\n",
       "       [7, 1, 0]])"
      ]
     },
     "execution_count": 72,
     "metadata": {},
     "output_type": "execute_result"
    }
   ],
   "source": [
    "ar.reshape(3,3)"
   ]
  },
  {
   "cell_type": "code",
   "execution_count": 73,
   "id": "7ad867fc-0284-4f1b-a27f-733cdd0c2254",
   "metadata": {},
   "outputs": [],
   "source": [
    "a1 = np.array([[1,2,3],[3,4,5]])\n",
    "a2 = np.array([[2,1,5],[1,2,7]])"
   ]
  },
  {
   "cell_type": "code",
   "execution_count": 74,
   "id": "bcf215a8-9bd6-4db1-909e-7c3e321cd4cd",
   "metadata": {},
   "outputs": [
    {
     "data": {
      "text/plain": [
       "array([[1, 2, 3],\n",
       "       [3, 4, 5]])"
      ]
     },
     "execution_count": 74,
     "metadata": {},
     "output_type": "execute_result"
    }
   ],
   "source": [
    "a1"
   ]
  },
  {
   "cell_type": "code",
   "execution_count": 75,
   "id": "3be266ad-c53f-40b2-aacc-26cfcf51d3af",
   "metadata": {},
   "outputs": [
    {
     "data": {
      "text/plain": [
       "array([[2, 1, 5],\n",
       "       [1, 2, 7]])"
      ]
     },
     "execution_count": 75,
     "metadata": {},
     "output_type": "execute_result"
    }
   ],
   "source": [
    "a2"
   ]
  },
  {
   "cell_type": "code",
   "execution_count": 76,
   "id": "e8b6b271-002b-441a-8945-fac90ee81fa0",
   "metadata": {},
   "outputs": [
    {
     "data": {
      "text/plain": [
       "array([[ 3,  3,  8],\n",
       "       [ 4,  6, 12]])"
      ]
     },
     "execution_count": 76,
     "metadata": {},
     "output_type": "execute_result"
    }
   ],
   "source": [
    "a1+a2"
   ]
  },
  {
   "cell_type": "code",
   "execution_count": 77,
   "id": "dd53c80f-3ec1-44a8-b867-7d183c457192",
   "metadata": {},
   "outputs": [
    {
     "data": {
      "text/plain": [
       "array([[ 2,  2, 15],\n",
       "       [ 3,  8, 35]])"
      ]
     },
     "execution_count": 77,
     "metadata": {},
     "output_type": "execute_result"
    }
   ],
   "source": [
    "a1*a2"
   ]
  },
  {
   "cell_type": "code",
   "execution_count": 78,
   "id": "80095e0b-7e28-4442-9143-923e023bdcfb",
   "metadata": {},
   "outputs": [
    {
     "data": {
      "text/plain": [
       "array([[1.        , 1.41421356, 1.73205081],\n",
       "       [1.73205081, 2.        , 2.23606798]])"
      ]
     },
     "execution_count": 78,
     "metadata": {},
     "output_type": "execute_result"
    }
   ],
   "source": [
    "np.sqrt(a1)"
   ]
  },
  {
   "cell_type": "code",
   "execution_count": 79,
   "id": "d91878cd-5751-49db-b0c1-13515a9f9baa",
   "metadata": {},
   "outputs": [
    {
     "data": {
      "text/plain": [
       "5"
      ]
     },
     "execution_count": 79,
     "metadata": {},
     "output_type": "execute_result"
    }
   ],
   "source": [
    "a1.max()"
   ]
  },
  {
   "cell_type": "code",
   "execution_count": 80,
   "id": "0285bd7b-5ff1-4492-86e1-cf6efde31efd",
   "metadata": {},
   "outputs": [
    {
     "data": {
      "text/plain": [
       "1"
      ]
     },
     "execution_count": 80,
     "metadata": {},
     "output_type": "execute_result"
    }
   ],
   "source": [
    "a1.min()"
   ]
  },
  {
   "cell_type": "code",
   "execution_count": 81,
   "id": "96f414a6-003e-44ae-8d79-40fc9801bb98",
   "metadata": {},
   "outputs": [
    {
     "data": {
      "text/plain": [
       "3.0"
      ]
     },
     "execution_count": 81,
     "metadata": {},
     "output_type": "execute_result"
    }
   ],
   "source": [
    "a1.mean()"
   ]
  },
  {
   "cell_type": "code",
   "execution_count": 82,
   "id": "f236269d-142f-469d-8a44-9503fb943088",
   "metadata": {},
   "outputs": [
    {
     "data": {
      "text/plain": [
       "18"
      ]
     },
     "execution_count": 82,
     "metadata": {},
     "output_type": "execute_result"
    }
   ],
   "source": [
    "a1.sum()"
   ]
  },
  {
   "cell_type": "code",
   "execution_count": 83,
   "id": "f883bd26-f2cd-4ae9-856a-464d096ee12f",
   "metadata": {},
   "outputs": [
    {
     "data": {
      "text/plain": [
       "array([1, 2, 3, 4, 5, 6, 7, 1, 0])"
      ]
     },
     "execution_count": 83,
     "metadata": {},
     "output_type": "execute_result"
    }
   ],
   "source": [
    "ar"
   ]
  },
  {
   "cell_type": "code",
   "execution_count": 84,
   "id": "3936548d-b4b7-4c15-900e-ab6c74ddce2e",
   "metadata": {},
   "outputs": [
    {
     "data": {
      "text/plain": [
       "(array([5, 6], dtype=int64),)"
      ]
     },
     "execution_count": 84,
     "metadata": {},
     "output_type": "execute_result"
    }
   ],
   "source": [
    "np.where(ar>5)"
   ]
  },
  {
   "cell_type": "code",
   "execution_count": 85,
   "id": "d2d26e34-8acd-41cc-af4c-5ad0bd5d43cf",
   "metadata": {},
   "outputs": [
    {
     "data": {
      "text/plain": [
       "array([[2, 1, 5],\n",
       "       [1, 2, 7]])"
      ]
     },
     "execution_count": 85,
     "metadata": {},
     "output_type": "execute_result"
    }
   ],
   "source": [
    "a2"
   ]
  },
  {
   "cell_type": "code",
   "execution_count": 86,
   "id": "531f8c6b-0294-456c-8c24-5f319b894281",
   "metadata": {},
   "outputs": [
    {
     "data": {
      "text/plain": [
       "(array([1], dtype=int64), array([2], dtype=int64))"
      ]
     },
     "execution_count": 86,
     "metadata": {},
     "output_type": "execute_result"
    }
   ],
   "source": [
    "np.where(a2>6)"
   ]
  },
  {
   "cell_type": "code",
   "execution_count": 87,
   "id": "85a54124-a88b-46b6-b10a-ece8d6b6e636",
   "metadata": {},
   "outputs": [
    {
     "data": {
      "text/plain": [
       "6"
      ]
     },
     "execution_count": 87,
     "metadata": {},
     "output_type": "execute_result"
    }
   ],
   "source": [
    "np.count_nonzero(a2)"
   ]
  },
  {
   "cell_type": "code",
   "execution_count": null,
   "id": "0ad3f887-c02f-4733-af9b-88a749ca1a90",
   "metadata": {},
   "outputs": [],
   "source": []
  }
 ],
 "metadata": {
  "kernelspec": {
   "display_name": "Python 3 (ipykernel)",
   "language": "python",
   "name": "python3"
  },
  "language_info": {
   "codemirror_mode": {
    "name": "ipython",
    "version": 3
   },
   "file_extension": ".py",
   "mimetype": "text/x-python",
   "name": "python",
   "nbconvert_exporter": "python",
   "pygments_lexer": "ipython3",
   "version": "3.10.5"
  }
 },
 "nbformat": 4,
 "nbformat_minor": 5
}
